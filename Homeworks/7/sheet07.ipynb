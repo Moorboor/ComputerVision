{
 "cells": [
  {
   "cell_type": "markdown",
   "id": "c9c2e363",
   "metadata": {
    "deletable": false,
    "editable": false,
    "nbgrader": {
     "cell_type": "markdown",
     "checksum": "06a5b796a3583e5de63b40848e61feab",
     "grade": false,
     "grade_id": "h00",
     "locked": true,
     "schema_version": 3,
     "solution": false
    }
   },
   "source": [
    "Osnabrück University - Computer Vision (Winter Term 2024/25) - Dr. Ulf Krumnack, Lukas Niehaus, Robin Rawiel"
   ]
  },
  {
   "cell_type": "markdown",
   "id": "d3989012",
   "metadata": {
    "deletable": false,
    "editable": false,
    "nbgrader": {
     "cell_type": "markdown",
     "checksum": "707341413d3e503d58f6286755bc0e8c",
     "grade": false,
     "grade_id": "cell-fcc4a8f1ac6d5976",
     "locked": true,
     "schema_version": 3,
     "solution": false
    }
   },
   "source": [
    "# Exercise Sheet 07: Compression"
   ]
  },
  {
   "cell_type": "markdown",
   "id": "3f6b0f68",
   "metadata": {
    "deletable": false,
    "editable": false,
    "nbgrader": {
     "cell_type": "markdown",
     "checksum": "c9522199fd4855c0819b9af52bcfba20",
     "grade": false,
     "grade_id": "cell-983153e0faf373b1",
     "locked": true,
     "schema_version": 3,
     "solution": false
    }
   },
   "source": [
    "## Introduction\n",
    "\n",
    "This week's sheet should be solved and handed in before the end of **Monday, January 13, 2025**. If you need help (and Google and other resources were not enough), feel free to use the StudIP forum. Please upload your results to your group's Stud.IP folder."
   ]
  },
  {
   "cell_type": "markdown",
   "id": "c2c2c9bf",
   "metadata": {
    "deletable": false,
    "editable": false,
    "nbgrader": {
     "cell_type": "markdown",
     "checksum": "97aae4af0731ac30d17ac049fdde5f16",
     "grade": false,
     "grade_id": "cell-433af82c3ad3533b",
     "locked": true,
     "schema_version": 3,
     "solution": false
    }
   },
   "source": [
    "## Assignment 1: Redundancy and compression (5 points)"
   ]
  },
  {
   "cell_type": "markdown",
   "id": "cc079d77",
   "metadata": {
    "deletable": false,
    "editable": false,
    "nbgrader": {
     "cell_type": "markdown",
     "checksum": "2948fdb75ddae922d7f2bd65d8aeb2b3",
     "grade": false,
     "grade_id": "cell-7d7b2b8f0c5697bf",
     "locked": true,
     "schema_version": 3,
     "solution": false
    }
   },
   "source": [
    "**a)** Explain in your own words the different types of redundancy mentioned on (CV-08 slide 55). How can you check for each of these types of redundancy?"
   ]
  },
  {
   "cell_type": "markdown",
   "id": "0b6e972f",
   "metadata": {
    "deletable": false,
    "nbgrader": {
     "cell_type": "markdown",
     "checksum": "b2138c7277ac16dd72dd117d1aaa6e26",
     "grade": true,
     "grade_id": "cell-daa37d273c908041",
     "locked": false,
     "points": 2,
     "schema_version": 3,
     "solution": true
    },
    "solution": true
   },
   "source": [
    "YOUR ANSWER HERE"
   ]
  },
  {
   "cell_type": "markdown",
   "id": "92c7709f",
   "metadata": {
    "deletable": false,
    "editable": false,
    "nbgrader": {
     "cell_type": "markdown",
     "checksum": "27b709ef34eebd71d214367ad763f19c",
     "grade": false,
     "grade_id": "cell-c09be7e5cf4f162a",
     "locked": true,
     "schema_version": 3,
     "solution": false
    }
   },
   "source": [
    "**b)** Explain the differences between lossless and lossy compression. Name examples for both of them."
   ]
  },
  {
   "cell_type": "markdown",
   "id": "5c2fa438",
   "metadata": {
    "deletable": false,
    "nbgrader": {
     "cell_type": "markdown",
     "checksum": "d746e79f554c31b0c1f6f39607735ab8",
     "grade": true,
     "grade_id": "cell-12e5d17cb8da0bbb",
     "locked": false,
     "points": 2,
     "schema_version": 3,
     "solution": true
    },
    "solution": true
   },
   "source": [
    "YOUR ANSWER HERE"
   ]
  },
  {
   "cell_type": "markdown",
   "id": "ef5dd4aa",
   "metadata": {
    "deletable": false,
    "editable": false,
    "nbgrader": {
     "cell_type": "markdown",
     "checksum": "8688e58e4e58a3c281a803bb3fcf2c4c",
     "grade": false,
     "grade_id": "cell-1963295ffb493fd5",
     "locked": true,
     "schema_version": 3,
     "solution": false,
     "task": false
    }
   },
   "source": [
    "**c)** Compare photos of a scenery to company or product logos that can often be found on websites. Describe their features and explain which type of compression should be used for either."
   ]
  },
  {
   "cell_type": "markdown",
   "id": "ce19ede8",
   "metadata": {
    "deletable": false,
    "nbgrader": {
     "cell_type": "markdown",
     "checksum": "be8226ff3a0f6ca8632951ed730aae55",
     "grade": true,
     "grade_id": "cell-d3a83d91b4739f4a",
     "locked": false,
     "points": 1,
     "schema_version": 3,
     "solution": true,
     "task": false
    }
   },
   "source": [
    "YOUR ANSWER HERE"
   ]
  },
  {
   "cell_type": "markdown",
   "id": "f43ed7d4",
   "metadata": {
    "deletable": false,
    "editable": false,
    "nbgrader": {
     "cell_type": "markdown",
     "checksum": "27f41a828fcae05ef1e3da32366d21ca",
     "grade": false,
     "grade_id": "cell-b41e6675c5265cc7",
     "locked": true,
     "schema_version": 3,
     "solution": false
    }
   },
   "source": [
    "## Assignment 2: Entropy based compression (8 points)"
   ]
  },
  {
   "cell_type": "markdown",
   "id": "2c4d8825",
   "metadata": {
    "deletable": false,
    "editable": false,
    "nbgrader": {
     "cell_type": "markdown",
     "checksum": "fe2dd7217631e63af8523e7d416fa89f",
     "grade": false,
     "grade_id": "huffman-compression-question",
     "locked": true,
     "schema_version": 3,
     "solution": false
    }
   },
   "source": [
    "**a)** Explain the idea of Huffman coding. What is the maximal compression factor that can be achieved for a given image? Load an image and compute that value (you may use `dolly.png` as an example. Make sure to load as 8-bit gray scale image)."
   ]
  },
  {
   "cell_type": "markdown",
   "id": "48fa6b9a",
   "metadata": {
    "deletable": false,
    "nbgrader": {
     "cell_type": "markdown",
     "checksum": "b6c0f6112ae924f1d514d72db1ab9b78",
     "grade": true,
     "grade_id": "huffman-compression-answer",
     "locked": false,
     "points": 1,
     "schema_version": 3,
     "solution": true
    },
    "solution": true
   },
   "source": [
    "YOUR ANSWER HERE"
   ]
  },
  {
   "cell_type": "code",
   "execution_count": null,
   "id": "998ae67a",
   "metadata": {
    "deletable": false,
    "nbgrader": {
     "cell_type": "code",
     "checksum": "9a8c3ebaa12a62123a881bb3e335d304",
     "grade": true,
     "grade_id": "huffman-entropy",
     "locked": false,
     "points": 1,
     "schema_version": 3,
     "solution": true
    }
   },
   "outputs": [],
   "source": [
    "import numpy as np\n",
    "import imageio.v3 as imageio\n",
    "import matplotlib.pyplot as plt\n",
    "\n",
    "img = imageio.imread('images/dolly.png', pilmode='L')\n",
    "\n",
    "# YOUR CODE HERE\n",
    "raise NotImplementedError()"
   ]
  },
  {
   "cell_type": "markdown",
   "id": "b3020e3c",
   "metadata": {
    "deletable": false,
    "editable": false,
    "nbgrader": {
     "cell_type": "markdown",
     "checksum": "9772d7bd7e2d61e0f49e8cdfeaca5d9b",
     "grade": false,
     "grade_id": "cell-f199e258bf6cebb2",
     "locked": true,
     "schema_version": 3,
     "solution": false
    }
   },
   "source": [
    "**b)** Now compute the relative frequencies (normalized histogram) of the image and generate an (approximately) balanced tree, as described in (CV-08 slide 33). *Hint:* you may use Python tuples as building blocks of a tree. Every non-leaf node is a pair `(left, right)` where `left` and `right` are the left and right subtrees, respectively (of course you are free to choose another approach if you prefer to do so)."
   ]
  },
  {
   "cell_type": "code",
   "execution_count": null,
   "id": "ca45d12d",
   "metadata": {
    "deletable": false,
    "nbgrader": {
     "cell_type": "code",
     "checksum": "91e55c751a5f9d44fa908662a17d8449",
     "grade": true,
     "grade_id": "huffman-nodes",
     "locked": false,
     "points": 2,
     "schema_version": 3,
     "solution": true
    }
   },
   "outputs": [],
   "source": [
    "# YOUR CODE HERE\n",
    "raise NotImplementedError()"
   ]
  },
  {
   "cell_type": "code",
   "execution_count": null,
   "id": "df17c2e0",
   "metadata": {
    "deletable": false,
    "nbgrader": {
     "cell_type": "code",
     "checksum": "26760ae384a38cfeb30132f9bf9a99c1",
     "grade": true,
     "grade_id": "huffman-tree",
     "locked": false,
     "points": 2,
     "schema_version": 3,
     "solution": true
    }
   },
   "outputs": [],
   "source": [
    "# YOUR CODE HERE\n",
    "raise NotImplementedError()\n",
    "print(tree)"
   ]
  },
  {
   "cell_type": "markdown",
   "id": "2d29aafd",
   "metadata": {
    "deletable": false,
    "editable": false,
    "nbgrader": {
     "cell_type": "markdown",
     "checksum": "12905e13df6f676b59e71ae780e76970",
     "grade": false,
     "grade_id": "cell-f0017a3bfc8c198b",
     "locked": true,
     "schema_version": 3,
     "solution": false
    }
   },
   "source": [
    "**c)** Now create a prefix free code from this tree, by traversing it following the idea sketched in (CV-08 slide 34). *Hint:* if you used the tuple representation recommended in (b), you can use `isinstance(node, tuple)` to check if `node` is an inner node or a leaf."
   ]
  },
  {
   "cell_type": "code",
   "execution_count": null,
   "id": "d0eb69ad",
   "metadata": {
    "deletable": false,
    "nbgrader": {
     "cell_type": "code",
     "checksum": "395ce986e75fbbe9bf2864863f5c00d6",
     "grade": true,
     "grade_id": "huffman-assign-codes",
     "locked": false,
     "points": 2,
     "schema_version": 3,
     "solution": true,
     "task": false
    }
   },
   "outputs": [],
   "source": [
    "# initialize a list of code values\n",
    "codes = list(normed_hist_img)\n",
    "\n",
    "# function to recursively traverse the tree.\n",
    "# For every inner node assign prefix \"0\" to the left subtree\n",
    "# and prefix \"1\" to the right subtree.\n",
    "def assign_codes(codes, tree, prefix=''):\n",
    "    # YOUR CODE HERE\n",
    "    raise NotImplementedError()\n",
    "\n",
    "assign_codes(codes, tree.subtree)\n",
    "for i, code in enumerate(codes):\n",
    "    print(i, code, normed_hist_img[i])"
   ]
  },
  {
   "cell_type": "markdown",
   "id": "4e216bbb",
   "metadata": {
    "deletable": false,
    "editable": false,
    "nbgrader": {
     "cell_type": "markdown",
     "checksum": "339b8d8e39dc366ab640174745f19dde",
     "grade": false,
     "grade_id": "cell-be6782bbc1933025",
     "locked": true,
     "schema_version": 3,
     "solution": false
    }
   },
   "source": [
    "**d)** Compute the compression ratio that you can achieve with that code. Compare this with the maximal value computed in part (a). Explain your observation."
   ]
  },
  {
   "cell_type": "code",
   "execution_count": null,
   "id": "9b0d5f25",
   "metadata": {
    "deletable": false,
    "nbgrader": {
     "cell_type": "code",
     "checksum": "db90dea95e6c02980846a63b8abc2d0f",
     "grade": true,
     "grade_id": "huffman-compression",
     "locked": false,
     "points": 2,
     "schema_version": 3,
     "solution": true
    }
   },
   "outputs": [],
   "source": [
    "acc = 0\n",
    "for value, code in enumerate(codes):\n",
    "    # YOUR CODE HERE\n",
    "    raise NotImplementedError()\n",
    "\n",
    "print(\"{:.2f} bits per pixel\".format(acc))"
   ]
  },
  {
   "cell_type": "markdown",
   "id": "20bbbbc3",
   "metadata": {
    "deletable": false,
    "nbgrader": {
     "cell_type": "markdown",
     "checksum": "4497d781a6fb943645b406bf0d6998bd",
     "grade": true,
     "grade_id": "cell-67f20617995a24ff",
     "locked": false,
     "points": 1,
     "schema_version": 3,
     "solution": true
    },
    "solution": true
   },
   "source": [
    "YOUR ANSWER HERE"
   ]
  },
  {
   "cell_type": "markdown",
   "id": "2b192560",
   "metadata": {
    "deletable": false,
    "editable": false,
    "nbgrader": {
     "cell_type": "markdown",
     "checksum": "d158acfbe296d7e455f9cc1c04a46257",
     "grade": false,
     "grade_id": "cell-a7ec0ae03a0ae285",
     "locked": true,
     "schema_version": 3,
     "solution": false
    }
   },
   "source": [
    "## Assignment 3: Run length encoding (7 points)\n"
   ]
  },
  {
   "cell_type": "markdown",
   "id": "849ff07a",
   "metadata": {
    "deletable": false,
    "editable": false,
    "nbgrader": {
     "cell_type": "markdown",
     "checksum": "5aa242cd396f69a1119bfc505df61da2",
     "grade": false,
     "grade_id": "cell-415382376019ed22",
     "locked": true,
     "schema_version": 3,
     "solution": false
    }
   },
   "source": [
    "**a)** Explain the idea of *run length encoding*. What are advantages and disadvantages? In what situations should it be applied?"
   ]
  },
  {
   "cell_type": "markdown",
   "id": "bacede9f",
   "metadata": {
    "deletable": false,
    "nbgrader": {
     "cell_type": "markdown",
     "checksum": "2a7418394f74feb3a9022b7b887571f7",
     "grade": true,
     "grade_id": "cell-7ac3249713d0b868",
     "locked": false,
     "points": 2,
     "schema_version": 3,
     "solution": true
    },
    "solution": true
   },
   "source": [
    "YOUR ANSWER HERE"
   ]
  },
  {
   "cell_type": "markdown",
   "id": "6174f5da",
   "metadata": {
    "deletable": false,
    "editable": false,
    "nbgrader": {
     "cell_type": "markdown",
     "checksum": "68f99c14103f4ecaf5c251272dda7c27",
     "grade": false,
     "grade_id": "cell-e8eb7016299142a6",
     "locked": true,
     "schema_version": 3,
     "solution": false
    }
   },
   "source": [
    "**b)** Analyze the run lengths in a gray scale image (8 bit = 256 gray values) by counting the number of runs and the average run length and displaying a histogram of the run lengths. What do you observe? Can you benefit from run length encoding here? (you may use `dolly.png` as an example again, but you may also experiment with other images. Make sure to load it as 8-bit gray scale image)."
   ]
  },
  {
   "cell_type": "code",
   "execution_count": null,
   "id": "58464446",
   "metadata": {
    "deletable": false,
    "nbgrader": {
     "cell_type": "code",
     "checksum": "ff004a0be874aa1cf7e74fea8d470637",
     "grade": true,
     "grade_id": "cell-c61791fc64b45bcf",
     "locked": false,
     "points": 1,
     "schema_version": 3,
     "solution": true
    }
   },
   "outputs": [],
   "source": [
    "import numpy as np\n",
    "import imageio.v2 as imageio\n",
    "import matplotlib.pyplot as plt\n",
    "\n",
    "img = imageio.imread('images/dolly.png', pilmode='L')\n",
    "\n",
    "# YOUR CODE HERE\n",
    "raise NotImplementedError()"
   ]
  },
  {
   "cell_type": "markdown",
   "id": "eff2bc0b",
   "metadata": {
    "deletable": false,
    "editable": false,
    "nbgrader": {
     "cell_type": "markdown",
     "checksum": "78c3aae97b75ca769e4c98fd645b7c3b",
     "grade": false,
     "grade_id": "cell-1c1500aa256b9686",
     "locked": true,
     "schema_version": 3,
     "solution": false
    }
   },
   "source": [
    "**c)** Now consider the individual bit planes. First display the bit planes as in (CV-08 slide 38). What do you observe? Apply your analysis from part (b) to each bitplane."
   ]
  },
  {
   "cell_type": "code",
   "execution_count": null,
   "id": "7693b4bb",
   "metadata": {
    "deletable": false,
    "nbgrader": {
     "cell_type": "code",
     "checksum": "28989f81a58fd915554fa77245b06551",
     "grade": true,
     "grade_id": "cell-1decc44824d08571",
     "locked": false,
     "points": 1,
     "schema_version": 3,
     "solution": true
    }
   },
   "outputs": [],
   "source": [
    "import numpy as np\n",
    "import imageio.v2 as imageio\n",
    "import matplotlib.pyplot as plt\n",
    "\n",
    "img = imageio.imread('images/dolly.png', pilmode='L')\n",
    "\n",
    "# YOUR CODE HERE\n",
    "raise NotImplementedError()"
   ]
  },
  {
   "cell_type": "markdown",
   "id": "af7ff4ea",
   "metadata": {
    "deletable": false,
    "editable": false,
    "nbgrader": {
     "cell_type": "markdown",
     "checksum": "6c21f233d0d0ffeefe36a456fad68575",
     "grade": false,
     "grade_id": "cell-902776d0877d8cbf",
     "locked": true,
     "schema_version": 3,
     "solution": false
    }
   },
   "source": [
    "**d)** Explain the idea of the *Gray code*. Why is it better suited for run length encoding? Compute a Gray code for a 256 bit image and recode the image `dolly.png`. Then analyze the run lengths of the individual bit planes of the recoded image."
   ]
  },
  {
   "cell_type": "markdown",
   "id": "6e5a7252",
   "metadata": {
    "deletable": false,
    "nbgrader": {
     "cell_type": "markdown",
     "checksum": "fe349ce812e79aac007dd0e015cbb444",
     "grade": true,
     "grade_id": "cell-3aa28a8b5bfa9810",
     "locked": false,
     "points": 1,
     "schema_version": 3,
     "solution": true
    },
    "solution": true
   },
   "source": [
    "YOUR ANSWER HERE"
   ]
  },
  {
   "cell_type": "code",
   "execution_count": null,
   "id": "689b9017",
   "metadata": {
    "deletable": false,
    "nbgrader": {
     "cell_type": "code",
     "checksum": "48e1960d58a81ceb2da036ef6a5b3517",
     "grade": true,
     "grade_id": "cell-3e854b9e4c5f7eb0",
     "locked": false,
     "points": 1,
     "schema_version": 3,
     "solution": true
    }
   },
   "outputs": [],
   "source": [
    "import numpy as np\n",
    "import imageio.v2 as imageio\n",
    "import matplotlib.pyplot as plt\n",
    "\n",
    "img = imageio.imread('images/dolly.png', pilmode='L')\n",
    "\n",
    "# YOUR CODE HERE\n",
    "raise NotImplementedError()"
   ]
  }
 ],
 "metadata": {
  "kernelspec": {
   "display_name": "Python 3 (ipykernel)",
   "language": "python",
   "name": "python3"
  },
  "language_info": {
   "codemirror_mode": {
    "name": "ipython",
    "version": 3
   },
   "file_extension": ".py",
   "mimetype": "text/x-python",
   "name": "python",
   "nbconvert_exporter": "python",
   "pygments_lexer": "ipython3",
   "version": "3.10.13"
  }
 },
 "nbformat": 4,
 "nbformat_minor": 5
}
