{
 "cells": [
  {
   "cell_type": "markdown",
   "id": "126441f9",
   "metadata": {
    "deletable": false,
    "editable": false,
    "nbgrader": {
     "cell_type": "markdown",
     "checksum": "06a5b796a3583e5de63b40848e61feab",
     "grade": false,
     "grade_id": "h00",
     "locked": true,
     "schema_version": 3,
     "solution": false
    }
   },
   "source": [
    "Osnabrück University - Computer Vision (Winter Term 2024/25) - Dr. Ulf Krumnack, Lukas Niehaus, Robin Rawiel"
   ]
  },
  {
   "cell_type": "markdown",
   "id": "b8c6f028",
   "metadata": {
    "deletable": false,
    "editable": false,
    "nbgrader": {
     "cell_type": "markdown",
     "checksum": "a5531cf84a3329341946ee53ced7b591",
     "grade": false,
     "grade_id": "h01",
     "locked": true,
     "schema_version": 3,
     "solution": false
    }
   },
   "source": [
    "# Exercise Sheet 01: Image Enhancement & Color"
   ]
  },
  {
   "cell_type": "markdown",
   "id": "c285d4ff",
   "metadata": {
    "deletable": false,
    "editable": false,
    "nbgrader": {
     "cell_type": "markdown",
     "checksum": "89e44bac2f9dd275f6d9b10b58a235db",
     "grade": false,
     "grade_id": "h02",
     "locked": true,
     "schema_version": 3,
     "solution": false
    }
   },
   "source": [
    "## Introduction\n",
    "\n",
    "This is the first \"real\" homework sheet.\n",
    "\n",
    "The homework sheets will usually be available at the beginning of the week and are supposed to be solved in groups. They have to be handed in before the next practice session (Monday evening). The exercises are then presented to your tutor in a small feedback session. To acquire the admission for the final exam, you will have to pass 𝑁−2 of the weekly provided exercise sheets.\n",
    "\n",
    "Sign up for a group on Stud.IP if you have not already done so (See Participants -> Functions/Groups). The times mentioned there are the times for the feedback session of your group. If none of them fits, send any of the tutors an e-mail so we can try to arrange something.\n",
    "\n",
    "Your group will have a group folder in Stud.IP under Documents. Upload your solutions there to hand them in.\n",
    "\n",
    "This week's sheet should be solved and handed in before end of **Monday, November 17, 2024**. Please upload your results to your group's Stud.IP folder."
   ]
  },
  {
   "cell_type": "markdown",
   "id": "e72f2300",
   "metadata": {
    "deletable": false,
    "editable": false,
    "nbgrader": {
     "cell_type": "markdown",
     "checksum": "8f02fb8dc26fe5ca15afd08be03fab7e",
     "grade": false,
     "grade_id": "contrast-computation",
     "locked": true,
     "schema_version": 3,
     "solution": false
    }
   },
   "source": [
    "## Assignment 1: Computing Contrast and Entropy (5 points)\n"
   ]
  },
  {
   "cell_type": "markdown",
   "id": "a785125c",
   "metadata": {
    "deletable": false,
    "editable": false,
    "nbgrader": {
     "cell_type": "markdown",
     "checksum": "ea59e0e200f8230670cbd9f4989c142d",
     "grade": false,
     "grade_id": "contrast-computation-q1",
     "locked": true,
     "schema_version": 3,
     "solution": false
    }
   },
   "source": [
    "### a) Computing contrast\n",
    "\n",
    "Provide functions to compute the local contrast, global contrast, and entropy of an image."
   ]
  },
  {
   "cell_type": "code",
   "execution_count": null,
   "id": "417c0d44",
   "metadata": {
    "deletable": false,
    "nbgrader": {
     "cell_type": "code",
     "checksum": "43153b34052ead8d7516e67075bafd42",
     "grade": true,
     "grade_id": "contrast-computation-a1",
     "locked": false,
     "points": 1,
     "schema_version": 3,
     "solution": true
    }
   },
   "outputs": [],
   "source": [
    "%matplotlib inline\n",
    "import numpy as np\n",
    "from imageio.v2 import imread\n",
    "import matplotlib.pyplot as plt\n",
    "plt.rcParams['image.cmap'] = 'gray'\n",
    "\n",
    "def global_contrast(img, value_range=None):\n",
    "    \"\"\"\n",
    "    Compute the global contrast for a given image.\n",
    "    Args:\n",
    "        img (ndarray): The grayscale image to compute the contrast for.\n",
    "        value_range (tuple): The minimum and maximum values of the gray scale.\n",
    "    \n",
    "    Returns:\n",
    "        contrast (float): The global contrast of the image. \n",
    "    \"\"\"\n",
    "\n",
    "    # determine range: simplified, just checks for uint8 \n",
    "    if value_range is None:\n",
    "        value_range = (0, 255) if img.dtype == np.uint8 else (0., 1.)\n",
    "\n",
    "    # YOUR CODE HERE\n",
    "    raise NotImplementedError()\n",
    "    # contrast = ...\n",
    "\n",
    "    return contrast\n",
    "\n",
    "img = imread('images/dark.png')\n",
    "plt.title(\"Image global contrast: {:.4f} (min={}, max={})\".format(global_contrast(img), img.min(), img.max()))\n",
    "plt.imshow(img, vmin=0, vmax=255)\n",
    "plt.show()\n",
    "\n",
    "plt.hist(img.flatten(), 256, (0, 255))\n",
    "plt.show()"
   ]
  },
  {
   "cell_type": "code",
   "execution_count": null,
   "id": "ac3a6fc3",
   "metadata": {
    "deletable": false,
    "nbgrader": {
     "cell_type": "code",
     "checksum": "27459216688ea23d4868dc8c19293d90",
     "grade": true,
     "grade_id": "contrast-computation-a2",
     "locked": false,
     "points": 1,
     "schema_version": 3,
     "solution": true
    }
   },
   "outputs": [],
   "source": [
    "%matplotlib inline\n",
    "import numpy as np\n",
    "import matplotlib.pyplot as plt\n",
    "from imageio.v2 import imread\n",
    "\n",
    "def local_contrast(img):\n",
    "    \"\"\"\n",
    "    Compute the local contrast for a given image.\n",
    "    Args:\n",
    "        img (ndarray): The grayscale image to compute the contrast for.\n",
    "    \n",
    "    Returns:\n",
    "        contrast (float): The local contrast of the image. \n",
    "    \"\"\"\n",
    "\n",
    "    # YOUR CODE HERE\n",
    "    raise NotImplementedError()\n",
    "\n",
    "\n",
    "img = imread('images/dark.png')\n",
    "plt.title(\"Image local contrast: {:.4f}\".format(local_contrast2(img)))\n",
    "plt.imshow(img, vmin=0, vmax=255)\n",
    "plt.show()"
   ]
  },
  {
   "cell_type": "code",
   "execution_count": null,
   "id": "b0911e4f",
   "metadata": {
    "deletable": false,
    "nbgrader": {
     "cell_type": "code",
     "checksum": "e8b6aef9cb4ba1b21894c5a7cf02fb34",
     "grade": true,
     "grade_id": "contrast-computation-a3",
     "locked": false,
     "points": 1,
     "schema_version": 3,
     "solution": true
    }
   },
   "outputs": [],
   "source": [
    "%matplotlib inline\n",
    "import numpy as np\n",
    "import math\n",
    "from imageio.v2 import imread\n",
    "import scipy.stats\n",
    "\n",
    "def entropy(img):\n",
    "    \"\"\"\n",
    "    Compute the entropy for a given image.\n",
    "    Args:\n",
    "        img (ndarray): The grayscale image to compute the entropy for.\n",
    "    \n",
    "    Returns:\n",
    "        img_entropy (float): The entropy of the image. \n",
    "    \"\"\"\n",
    "    # YOUR CODE HERE\n",
    "    raise NotImplementedError()\n",
    "\n",
    "img = imread('images/dark.png')\n",
    "plt.title(\"Image Entropy value: {:.4f}\".format(entropy(img)))\n",
    "plt.imshow(img, vmin=0, vmax=255)\n",
    "plt.show()\n",
    "\n",
    "plt.hist(img.flatten(), 256, (0, 255))\n",
    "plt.show()\n",
    "\n",
    "assert math.isclose(entropy(img), scipy.stats.entropy(np.unique(img.flat, return_counts=True)[1], base=2))"
   ]
  },
  {
   "cell_type": "markdown",
   "id": "c1b6de2b",
   "metadata": {
    "deletable": false,
    "editable": false,
    "nbgrader": {
     "cell_type": "markdown",
     "checksum": "f13e1058f565a1975f6482d38a5898da",
     "grade": false,
     "grade_id": "contrast-computation-q4",
     "locked": true,
     "schema_version": 3,
     "solution": false
    }
   },
   "source": [
    "### b) Example images\n",
    "\n",
    "* construct an (artificial) image with high global contrast but low local contrast\n",
    "* construct an (artificial) image with low global constrast but high local contrast\n",
    "* construct an (artificial) image with maximal entropy but low local contrast"
   ]
  },
  {
   "cell_type": "code",
   "execution_count": null,
   "id": "840252d4",
   "metadata": {
    "deletable": false,
    "nbgrader": {
     "cell_type": "code",
     "checksum": "0de9a1ac58b33210b6d8ef83079fa95b",
     "grade": true,
     "grade_id": "contrast-computation-a4",
     "locked": false,
     "points": 2,
     "schema_version": 3,
     "solution": true
    }
   },
   "outputs": [],
   "source": [
    "%matplotlib inline\n",
    "import numpy as np\n",
    "import matplotlib.pyplot as plt\n",
    "\n",
    "def image_info(img):\n",
    "    \"\"\" Displays an image, local and global contrast, and the entropy\n",
    "    \n",
    "    Args:\n",
    "        img (ndarray): Image which is displayed and statics are computed for.\n",
    "        \n",
    "    \"\"\"\n",
    "    info = \"global contrast: {:.4f}, local contrast: {:.4f}, entropy: {:.4f}\"\n",
    "    plt.title(info.format(global_contrast(img), local_contrast(img), entropy(img)))\n",
    "    plt.imshow(img, vmin=0, vmax=255)\n",
    "    plt.show()\n",
    "\n",
    "\n",
    "img1 = np.zeros((256, 256),np.uint8)\n",
    "# YOUR CODE HERE\n",
    "raise NotImplementedError()\n",
    "image_info(img1)\n",
    "\n",
    "\n",
    "img2 = np.zeros((256, 256),np.uint8)\n",
    "# YOUR CODE HERE\n",
    "raise NotImplementedError()\n",
    "image_info(img2)\n",
    "\n",
    "\n",
    "img3 = np.zeros((256, 256),np.uint8)\n",
    "# YOUR CODE HERE\n",
    "raise NotImplementedError()\n",
    "image_info(img3)"
   ]
  },
  {
   "cell_type": "markdown",
   "id": "32de12c6",
   "metadata": {
    "deletable": false,
    "editable": false,
    "nbgrader": {
     "cell_type": "markdown",
     "checksum": "cabde56e40f32dbc3c331e217cc3f35e",
     "grade": false,
     "grade_id": "contrast-theory",
     "locked": true,
     "schema_version": 3,
     "solution": false
    }
   },
   "source": [
    "## Assignment 2: Contrast enhancement (5 points)"
   ]
  },
  {
   "cell_type": "markdown",
   "id": "325eaeac",
   "metadata": {
    "deletable": false,
    "editable": false,
    "nbgrader": {
     "cell_type": "markdown",
     "checksum": "432de2b4af8599e5a2cc6e97b8084329",
     "grade": false,
     "grade_id": "contrast-theory-q1",
     "locked": true,
     "schema_version": 3,
     "solution": false
    }
   },
   "source": [
    "### a) Image Contrast\n",
    "\n",
    "Describe the concept of contrast in your own words and introduce different ways to measure it. How can low contrast be caused and when is this a problem (and when not)? What can be done to improve contrast?"
   ]
  },
  {
   "cell_type": "markdown",
   "id": "ce70cee6",
   "metadata": {
    "deletable": false,
    "nbgrader": {
     "cell_type": "markdown",
     "checksum": "dc322f0979cc0bf480a3acb62d086d2b",
     "grade": true,
     "grade_id": "contrast-theory-a1",
     "locked": false,
     "points": 1,
     "schema_version": 3,
     "solution": true
    },
    "solution": "shown"
   },
   "source": [
    "YOUR ANSWER HERE"
   ]
  },
  {
   "cell_type": "markdown",
   "id": "dfbb04d8",
   "metadata": {
    "deletable": false,
    "editable": false,
    "nbgrader": {
     "cell_type": "markdown",
     "checksum": "15912274071f7216a1391af181c6e8df",
     "grade": false,
     "grade_id": "contrast-theory-q2",
     "locked": true,
     "schema_version": 3,
     "solution": false
    }
   },
   "source": [
    "### b) Histogram equalization and entropy\n",
    "\n",
    "How does histogram equalization work? What is entropy and how is it related to histogram equalization? For your answer focus on the (conceptually simpler) continuous case."
   ]
  },
  {
   "cell_type": "markdown",
   "id": "b66f25c4",
   "metadata": {
    "deletable": false,
    "nbgrader": {
     "cell_type": "markdown",
     "checksum": "428e70db761f6089cc42aba7ac80473d",
     "grade": true,
     "grade_id": "contrast-theory-a2",
     "locked": false,
     "points": 2,
     "schema_version": 3,
     "solution": true
    },
    "solution": "shown"
   },
   "source": [
    "YOUR ANSWER HERE"
   ]
  },
  {
   "cell_type": "markdown",
   "id": "69742ba4",
   "metadata": {
    "deletable": false,
    "editable": false,
    "nbgrader": {
     "cell_type": "markdown",
     "checksum": "cd025b49c1c76339c2c519fc710297c2",
     "grade": false,
     "grade_id": "contrast-theory-q3",
     "locked": true,
     "schema_version": 3,
     "solution": false
    }
   },
   "source": [
    "### c) Discrete histogram equalization\n",
    "\n",
    "What problems occur when considering discrete images (i.e. with discrete coordinates and a finite number of gray levels)? Explain the tables on the lecture slides (CV-02 slides 29-32)."
   ]
  },
  {
   "cell_type": "markdown",
   "id": "f7601962",
   "metadata": {
    "deletable": false,
    "nbgrader": {
     "cell_type": "markdown",
     "checksum": "a45bf1ea2c835d4575fd1e558ba55f1a",
     "grade": true,
     "grade_id": "contrast-theory-a3",
     "locked": false,
     "points": 2,
     "schema_version": 3,
     "solution": true
    },
    "solution": "shown"
   },
   "source": [
    "YOUR ANSWER HERE"
   ]
  },
  {
   "cell_type": "markdown",
   "id": "ad8d8ea9",
   "metadata": {
    "deletable": false,
    "editable": false,
    "nbgrader": {
     "cell_type": "markdown",
     "checksum": "7fecbf782599304194e9e75547351060",
     "grade": false,
     "grade_id": "ahe",
     "locked": true,
     "schema_version": 3,
     "solution": false
    }
   },
   "source": [
    "## Assignment 3: Adaptive Histogram Equalization (5 points)\n",
    "\n",
    "We have uploaded the original article on Contrast Limited Adaptive Histogram Equalization to StudIP [Zuiderveld, 1994](Zuiderveld-1994.pdf). You may use it as a base to answer this exercise."
   ]
  },
  {
   "cell_type": "markdown",
   "id": "d3de75b0",
   "metadata": {
    "deletable": false,
    "editable": false,
    "nbgrader": {
     "cell_type": "markdown",
     "checksum": "4833d1589559a19682487c5397dcd670",
     "grade": false,
     "grade_id": "ahe-q1",
     "locked": true,
     "schema_version": 3,
     "solution": false
    }
   },
   "source": [
    "### a) Adaptive Histogram Equalization (AHE)\n",
    "\n",
    "Describe in your own words the idea of AHE. Why was it introduced and what are its main drawbacks?"
   ]
  },
  {
   "cell_type": "markdown",
   "id": "71ed4c1c",
   "metadata": {
    "deletable": false,
    "nbgrader": {
     "cell_type": "markdown",
     "checksum": "350529ef8cb3dbbe04a562964d46f872",
     "grade": true,
     "grade_id": "ahe-a1",
     "locked": false,
     "points": 1,
     "schema_version": 3,
     "solution": true
    }
   },
   "source": [
    "YOUR ANSWER HERE"
   ]
  },
  {
   "cell_type": "markdown",
   "id": "c7acf777",
   "metadata": {
    "deletable": false,
    "editable": false,
    "nbgrader": {
     "cell_type": "markdown",
     "checksum": "300d7b5e1f3bc1be5b49458680459906",
     "grade": false,
     "grade_id": "ahe-q2",
     "locked": true,
     "schema_version": 3,
     "solution": false
    }
   },
   "source": [
    "### b) Contrast Limited Adaptive Histogram Equalization (CLAHE)\n",
    "\n",
    "Describe in your own words the idea of CLAHE. Why was it introduced and how does it work? "
   ]
  },
  {
   "cell_type": "markdown",
   "id": "fd32d7ea",
   "metadata": {
    "deletable": false,
    "nbgrader": {
     "cell_type": "markdown",
     "checksum": "c7e62e4c1fff72d9abca41b895654cf5",
     "grade": true,
     "grade_id": "ahe-a2",
     "locked": false,
     "points": 1,
     "schema_version": 3,
     "solution": true
    }
   },
   "source": [
    "YOUR ANSWER HERE"
   ]
  },
  {
   "cell_type": "markdown",
   "id": "e9ff76d9",
   "metadata": {
    "deletable": false,
    "editable": false,
    "nbgrader": {
     "cell_type": "markdown",
     "checksum": "0ef3c59fede4acd38f3506cede5b1069",
     "grade": false,
     "grade_id": "ahe-q3",
     "locked": true,
     "schema_version": 3,
     "solution": false
    }
   },
   "source": [
    "### c) Computation of AHE\n",
    "\n",
    "How can AHE be implemented efficiently? Explain how the interpolation scheme works, why it is a valid approximation, and why it improves the runtime? Can you think of another way to compute AHE efficiently?"
   ]
  },
  {
   "cell_type": "markdown",
   "id": "ef1ff389",
   "metadata": {
    "deletable": false,
    "nbgrader": {
     "cell_type": "markdown",
     "checksum": "84045a18e8f541702f701ed97dd4cfc8",
     "grade": true,
     "grade_id": "ahe-a3",
     "locked": false,
     "points": 2,
     "schema_version": 3,
     "solution": true
    }
   },
   "source": [
    "YOUR ANSWER HERE"
   ]
  },
  {
   "cell_type": "markdown",
   "id": "f0e8064a",
   "metadata": {
    "deletable": false,
    "editable": false,
    "nbgrader": {
     "cell_type": "markdown",
     "checksum": "3737ab7610574a99470b2808fd22ed17",
     "grade": false,
     "grade_id": "ahe-q4",
     "locked": true,
     "schema_version": 3,
     "solution": false
    }
   },
   "source": [
    "### d) Applying AHE and CLAHE\n",
    "\n",
    "Lookup functions for computing HE, AHE and CLAHE in the module `skimage.exposure` and apply them to the image `canada.png`. Compare your results to the lecture slides (CV-02, slide 24)."
   ]
  },
  {
   "cell_type": "code",
   "execution_count": null,
   "id": "92b2faf2",
   "metadata": {
    "deletable": false,
    "nbgrader": {
     "cell_type": "code",
     "checksum": "b00e268173b3abee375200bfe2675532",
     "grade": true,
     "grade_id": "ahe-a4",
     "locked": false,
     "points": 1,
     "schema_version": 3,
     "solution": true
    }
   },
   "outputs": [],
   "source": [
    "%matplotlib inline\n",
    "# YOUR CODE HERE\n",
    "raise NotImplementedError()\n",
    "from imageio.v2 import imread\n",
    "import matplotlib.pyplot as plt\n",
    "\n",
    "img = imread('images/canada.png', pilmode='L')\n",
    "\n",
    "img_he = img # CHANGE THIS\n",
    "img_ahe = img # CHANGE THIS\n",
    "img_clahe = img # CHANGE THIS\n",
    "# YOUR CODE HERE\n",
    "raise NotImplementedError()\n",
    "\n",
    "plt.figure(figsize=(12, 15))\n",
    "plt.subplot(4,2,1)\n",
    "plt.title(\"Original Image\")\n",
    "plt.imshow(img)\n",
    "plt.subplot(4,2,2)\n",
    "plt.title(\"entropy={:.4f}\".format(entropy(img)))\n",
    "plt.hist(img.flatten(), 256, (0, 255))\n",
    "\n",
    "plt.subplot(4,2,3)\n",
    "plt.title(\"HE\")\n",
    "plt.imshow(img_he)\n",
    "plt.subplot(4,2,4)\n",
    "plt.title(\"entropy={:.4f}\".format(entropy(img_he)))\n",
    "plt.hist(img_he.flatten(), 256, (0, 255))\n",
    "\n",
    "plt.subplot(4,2,5)\n",
    "plt.title(\"AHE\")\n",
    "plt.imshow(img_ahe)\n",
    "plt.subplot(4,2,6)\n",
    "plt.title(\"entropy={:.4f}\".format(entropy(img_ahe)))\n",
    "plt.hist(img_ahe.flatten(), 256, (0, 255))\n",
    "\n",
    "plt.subplot(4,2,7)\n",
    "plt.title(\"CLAHE\")\n",
    "plt.imshow(img_clahe)\n",
    "plt.subplot(4,2,8)\n",
    "plt.title(\"entropy={:.4f}\".format(entropy(img_clahe)))\n",
    "plt.hist(img_clahe.flatten(), 256, (0, 255))\n",
    "\n",
    "plt.show()"
   ]
  },
  {
   "cell_type": "markdown",
   "id": "0b3084d6",
   "metadata": {
    "deletable": false,
    "editable": false,
    "nbgrader": {
     "cell_type": "markdown",
     "checksum": "1bcbc5a6a118256e70d855c6f7116027",
     "grade": false,
     "grade_id": "cell-09e6844b0fbe4157",
     "locked": true,
     "schema_version": 3,
     "solution": false
    }
   },
   "source": [
    "## Assignment 4: Colormaps (5 points)\n",
    "\n",
    "Colormaps can be used to map a grayscale image to a pseudo color image for contrast enhancment for human viewing. Three non-monotonic functions are applied to map a gray value to each of the three color channels of the output image.\n"
   ]
  },
  {
   "cell_type": "markdown",
   "id": "98c4606b",
   "metadata": {
    "deletable": false,
    "editable": false,
    "nbgrader": {
     "cell_type": "markdown",
     "checksum": "8ffe944924354ad183734e88cbf60d07",
     "grade": false,
     "grade_id": "cell-34220895465157fd",
     "locked": true,
     "schema_version": 3,
     "solution": false
    }
   },
   "source": [
    "### a) Describe the following three colormap classes in one sentence each:\n",
    "\n",
    "* Sequential\n",
    "* Diverging\n",
    "* Qualitative\n",
    "\n",
    "You may have a look at the matplotlib documentation."
   ]
  },
  {
   "cell_type": "markdown",
   "id": "ab14c2b9",
   "metadata": {
    "deletable": false,
    "nbgrader": {
     "cell_type": "markdown",
     "checksum": "6802eec29fe0f67ca0f93306ea9ba6ee",
     "grade": true,
     "grade_id": "cell-1417a9c18627ceb3",
     "locked": false,
     "points": 1.5,
     "schema_version": 3,
     "solution": true
    }
   },
   "source": [
    "YOUR ANSWER HERE"
   ]
  },
  {
   "cell_type": "markdown",
   "id": "e22287af",
   "metadata": {
    "deletable": false,
    "editable": false,
    "nbgrader": {
     "cell_type": "markdown",
     "checksum": "55fea66fdb9110743baed7293eb7eca0",
     "grade": false,
     "grade_id": "cell-8bf315d36d8c9d90",
     "locked": true,
     "schema_version": 3,
     "solution": false
    }
   },
   "source": [
    "For each of the above colormap classes give one example and display the red, green, and blue curves like on (CV-02, slide 43):"
   ]
  },
  {
   "cell_type": "code",
   "execution_count": null,
   "id": "545b117d",
   "metadata": {
    "deletable": false,
    "nbgrader": {
     "cell_type": "code",
     "checksum": "becd85050dac10a8fe3b8d08bc54c1c1",
     "grade": true,
     "grade_id": "cell-3ed2522128754c63",
     "locked": false,
     "points": 1.5,
     "schema_version": 3,
     "solution": true
    }
   },
   "outputs": [],
   "source": [
    "%matplotlib inline\n",
    "import numpy as np\n",
    "import matplotlib.pyplot as plt\n",
    "import math\n",
    "\n",
    "colors = []\n",
    "\n",
    "# The following is just for demonstration: replace and extend by your own examples\n",
    "colors.append((np.asarray((lambda x: np.sin(x/256*2*np.pi)*128+128, \n",
    "                           lambda x: (x//16) * 16,\n",
    "                           lambda x: (2*x) % 256)),\n",
    "              \"Demo\"))\n",
    "# YOUR CODE HERE\n",
    "raise NotImplementedError()\n",
    "\n",
    "gray = np.arange(0,256)\n",
    "a = np.tile(np.arange(256),(256,1))\n",
    "\n",
    "plt.figure(figsize=(12,12))\n",
    "for i, (color, label) in enumerate(colors):\n",
    "    plt.subplot((len(color)//2)+1,2,i+1)\n",
    "    plt.plot(gray, color[0](gray), 'red')\n",
    "    plt.plot(gray, color[1](gray), 'green')\n",
    "    plt.plot(gray, color[2](gray), 'blue')\n",
    "    plt.imshow(np.stack([color[0](a),color[1](a),color[2](a)],axis=2)/256, origin='lower')\n",
    "    plt.title(label)\n",
    "plt.show()"
   ]
  },
  {
   "cell_type": "markdown",
   "id": "66c61368",
   "metadata": {
    "deletable": false,
    "editable": false,
    "nbgrader": {
     "cell_type": "markdown",
     "checksum": "eecf08e1607f927bef1bb866a8a26cb3",
     "grade": false,
     "grade_id": "cell-843941a0c5389bbc",
     "locked": true,
     "schema_version": 3,
     "solution": false
    }
   },
   "source": [
    "### b) Implement Cube Helix colormapping \n",
    "Generate a LookUp table with $256 \\times 3$ entries describing the color values for all gray values beginning with black (0) up to white (255). Use the given parameters and use the following formula to compute an RGB value from a gray value $g$:\n",
    "$$ \\begin{pmatrix}R \\\\ G \\\\ B\\end{pmatrix} =  \n",
    "\\begin{pmatrix} \\lambda ^ \\gamma \\\\ \\lambda ^ \\gamma \\\\ \\lambda ^ \\gamma \\end{pmatrix} + a \\begin{pmatrix}-0.14861 & + 1.78277 \\\\\n",
    "-0.29227 & -0.90649 \\\\ +1.97294 & 0\\end{pmatrix} \\begin{pmatrix}\\cos \\phi \\\\ \\sin \\phi\\end{pmatrix}$$\n",
    "with $\\phi = 2 \\pi (\\frac{\\text{start\\_color }}{3} + \\text{rotations}\\cdot \\lambda)$ and $ a = \\frac{\\text{hue}\\cdot \\lambda ^ \\gamma \\cdot( 1 - \\lambda ^ \\gamma)}{2}$ (with 'start\\_color', 'rotations' and 'hue' being parameters describing the form of the helix, and $\\gamma$ being the usual $\\gamma$-factor).\n",
    "\n",
    "Remember that this formula is for values between $0$ and $1$.\n",
    "For more information you may refer to http://astron-soc.in/bulletin/11June/289392011.pdf"
   ]
  },
  {
   "cell_type": "code",
   "execution_count": null,
   "id": "ea0e105d",
   "metadata": {
    "deletable": false,
    "nbgrader": {
     "cell_type": "code",
     "checksum": "fc0787e9fa09ad9aa6d822c9e7f3e0d0",
     "grade": true,
     "grade_id": "cell-54c16bafb9c032c8",
     "locked": false,
     "points": 2,
     "schema_version": 3,
     "solution": true
    }
   },
   "outputs": [],
   "source": [
    "%matplotlib inline\n",
    "import numpy as np\n",
    "from imageio.v2 import imread\n",
    "import matplotlib.pyplot as plt\n",
    "\n",
    "start_color = 0.5\n",
    "rotations = -1.5\n",
    "hue = 1\n",
    "gamma = 1\n",
    "m = np.mat([[-.14861, 1.78277],\n",
    "            [-.29227, -.90649],\n",
    "            [1.97294, 0]])\n",
    "\n",
    "def generate_cube_helix_lookup_table():\n",
    "    \"\"\"Generate a lookup table for cube helix color mapping.\n",
    "    \n",
    "    Return: \n",
    "        lookup_table (ndarray): The cube helix color map. (256,3)\n",
    "    \"\"\"\n",
    "    lookup_table = np.empty((256,3), float)\n",
    "    \n",
    "    for i in np.arange(256):\n",
    "        # YOUR CODE HERE\n",
    "        raise NotImplementedError()\n",
    "    return lookup_table\n",
    "\n",
    "\n",
    "def apply_colormap(img, loookup_table):\n",
    "    \"\"\"Apply a colormap to an image\n",
    "    \n",
    "    Args:\n",
    "        img (ndarray): The image (ndim=2).\n",
    "        lookup_table (ndarray): The lookup table (shape=(256,3)).\n",
    "        \n",
    "    Return:\n",
    "        color_img (ndarray): The color image resulting from application of the colormap.\n",
    "    \"\"\"\n",
    "    color_img = loookup_table[img]\n",
    "    color_img[color_img>1] = 1.\n",
    "    color_img[color_img<0] = 0.\n",
    "    return color_img\n",
    "\n",
    "img = imread('images/lung.png', pilmode='L')\n",
    "lookup_table = generate_cube_helix_lookup_table()\n",
    "img2 = apply_colormap(img, lookup_table)\n",
    "\n",
    "gray = np.arange(0,256)\n",
    "a = np.tile(np.arange(256),(256,1))\n",
    "\n",
    "int_table = (lookup_table*256).astype(int)\n",
    "plt.figure(figsize=(8,8))\n",
    "plt.plot(gray, int_table[gray,0], 'red')\n",
    "plt.plot(gray, int_table[gray,1], 'green')\n",
    "plt.plot(gray, int_table[gray,2], 'blue')\n",
    "plt.imshow(np.stack([int_table[a,0],int_table[a,1],int_table[a,2]],axis=2)/256, origin='lower')\n",
    "plt.title(\"Cube Helix\")\n",
    "plt.show()\n",
    "\n",
    "plt.figure(figsize=(20,10))\n",
    "plt.subplot(1,2,1); plt.imshow(img, cmap = 'gray'); plt.axis('off')\n",
    "plt.subplot(1,2,2); plt.imshow(img2); plt.axis('off')\n",
    "plt.show()"
   ]
  },
  {
   "cell_type": "markdown",
   "id": "106baf43",
   "metadata": {
    "deletable": false,
    "editable": false,
    "nbgrader": {
     "cell_type": "markdown",
     "checksum": "8372feb90034365d928df026a5e827c5",
     "grade": false,
     "grade_id": "cell-ded9fdb266f368d9",
     "locked": true,
     "schema_version": 3,
     "solution": false
    }
   },
   "source": [
    "### Jet Colormap [Bonus]\n",
    "\n",
    "Explain why the Jet Colormap (used, for example, as standard colormap in matlab), is problematic compared to Cube Helix. Think of perceived luminance and black and white printing."
   ]
  },
  {
   "cell_type": "code",
   "execution_count": null,
   "id": "354f24a1",
   "metadata": {
    "deletable": false,
    "editable": false,
    "nbgrader": {
     "cell_type": "code",
     "checksum": "0beb1131deddd6c0b365921e1db3ef56",
     "grade": false,
     "grade_id": "cell-23b13d50c5999752",
     "locked": true,
     "schema_version": 3,
     "solution": false,
     "task": false
    }
   },
   "outputs": [],
   "source": [
    "# This code was taken from \n",
    "# https://jakevdp.github.io/blog/2014/10/16/how-bad-is-your-colormap/\n",
    "\n",
    "def grayify_cmap(cmap):\n",
    "    \"\"\"Return a grayscale version of the colormap\n",
    "    \n",
    "    Args:\n",
    "        cmap (ndarray): RGB Colormap.\n",
    "    \n",
    "    Returns:\n",
    "        (ndarray): Gray Colormap.\n",
    "    \n",
    "    \"\"\"\n",
    "    cmap = plt.get_cmap(cmap)\n",
    "    colors = cmap(np.arange(cmap.N))\n",
    "    \n",
    "    # convert RGBA to perceived greyscale luminance\n",
    "    # cf. http://alienryderflex.com/hsp.html\n",
    "    RGB_weight = [0.299, 0.587, 0.114]\n",
    "    luminance = np.sqrt(np.dot(colors[:, :3] ** 2, RGB_weight))\n",
    "    colors[:, :3] = luminance[:, np.newaxis]\n",
    "    \n",
    "    return cmap.from_list(cmap.name + \"_grayscale\", colors, cmap.N)\n",
    "\n",
    "def show_colormap(cmap):\n",
    "    \"\"\"Plots RGB colormap and grayified colormap\n",
    "    \n",
    "    Args: \n",
    "        cmap (ndarray): Colormap.\n",
    "    \n",
    "    \"\"\"\n",
    "    im = np.outer(np.ones(10), np.arange(100))\n",
    "    fig, ax = plt.subplots(2, figsize=(6, 1.5),\n",
    "                           subplot_kw=dict(xticks=[], yticks=[]))\n",
    "    fig.subplots_adjust(hspace=0.1)\n",
    "    ax[0].imshow(im, cmap=cmap)\n",
    "    ax[1].imshow(im, cmap=grayify_cmap(cmap))\n",
    "    \n",
    "# printing the jet colormap and how it would look like if printed black and white\n",
    "show_colormap('jet')\n",
    "\n",
    "# doing the same for cube helix\n",
    "show_colormap('cubehelix')"
   ]
  },
  {
   "cell_type": "markdown",
   "id": "0d091bef",
   "metadata": {
    "deletable": false,
    "nbgrader": {
     "cell_type": "markdown",
     "checksum": "5a21e94c4611a9a5313c963777e6be43",
     "grade": true,
     "grade_id": "cell-f74443c5ab551eb2",
     "locked": false,
     "points": 0,
     "schema_version": 3,
     "solution": true,
     "task": false
    }
   },
   "source": [
    "YOUR ANSWER HERE"
   ]
  }
 ],
 "metadata": {
  "kernelspec": {
   "display_name": "Python 3 (ipykernel)",
   "language": "python",
   "name": "python3"
  }
 },
 "nbformat": 4,
 "nbformat_minor": 5
}
