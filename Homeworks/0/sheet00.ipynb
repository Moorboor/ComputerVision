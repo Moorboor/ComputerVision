{
 "cells": [
  {
   "cell_type": "markdown",
   "id": "f8adab72",
   "metadata": {
    "deletable": false,
    "editable": false,
    "nbgrader": {
     "cell_type": "markdown",
     "checksum": "06a5b796a3583e5de63b40848e61feab",
     "grade": false,
     "grade_id": "h00",
     "locked": true,
     "schema_version": 3,
     "solution": false
    }
   },
   "source": [
    "Osnabrück University - Computer Vision (Winter Term 2024/25) - Dr. Ulf Krumnack, Lukas Niehaus, Robin Rawiel"
   ]
  },
  {
   "cell_type": "markdown",
   "id": "6ccb6583",
   "metadata": {
    "deletable": false,
    "editable": false,
    "nbgrader": {
     "cell_type": "markdown",
     "checksum": "72e6c38ffd94fdc398bc5635fde16791",
     "grade": false,
     "grade_id": "h01",
     "locked": true,
     "schema_version": 3,
     "solution": false
    }
   },
   "source": [
    "# Exercise Sheet 00: Preparation"
   ]
  },
  {
   "cell_type": "markdown",
   "id": "e1d93c77",
   "metadata": {
    "deletable": false,
    "editable": false,
    "nbgrader": {
     "cell_type": "markdown",
     "checksum": "b8661d65bc00814f01792b8fc74db16c",
     "grade": false,
     "grade_id": "h02",
     "locked": true,
     "schema_version": 3,
     "solution": false
    }
   },
   "source": [
    "## Introduction\n",
    "\n",
    "This is an introductory exercise sheet that shall help you getting started with Python and Jupyter Notebooks, the tools we will use in the practice sessions of the Computer Vision course. This is a preparatory sheet and you are not required to submit your solutions.\n",
    "\n",
    "We encourage you to work through this sheet to make sure you get familiar with this setup and to check if you feel comfortable with reading and understanding the documentation of the software packages.\n",
    "\n",
    "In case of questions, feel free to post them to the forum and/or raise them in the next practice session."
   ]
  },
  {
   "cell_type": "markdown",
   "id": "98b67c10",
   "metadata": {
    "deletable": false,
    "editable": false,
    "nbgrader": {
     "cell_type": "markdown",
     "checksum": "4a20141d7dcf31adff658b636d8e8ba3",
     "grade": false,
     "grade_id": "ex-setup3",
     "locked": true,
     "schema_version": 3,
     "solution": false
    }
   },
   "source": [
    "## Assignment 1: Check your installation (0 points)\n",
    "Check that your installation succeeded and all required packages are available by executing the following cell (type <kbd>Ctrl</kbd>+<kbd>&#x23ce;</kbd>, on German keyboards <kbd>Strg</kbd>+<kbd>&#x23ce;</kbd>, or press the \"run cell\"-button at the toolbar above):"
   ]
  },
  {
   "cell_type": "code",
   "execution_count": null,
   "id": "88318870",
   "metadata": {},
   "outputs": [],
   "source": [
    "import importlib\n",
    "assert importlib.util.find_spec('numpy') is not None , 'numpy not found'\n",
    "assert importlib.util.find_spec('matplotlib') is not None, 'matplotlib not found'\n",
    "assert importlib.util.find_spec('imageio') is not None , 'imageio not found'\n",
    "assert importlib.util.find_spec('scipy') is not None , 'scipy not found'"
   ]
  },
  {
   "cell_type": "markdown",
   "id": "99470882",
   "metadata": {
    "deletable": false,
    "editable": false,
    "nbgrader": {
     "cell_type": "markdown",
     "checksum": "c75d63800463498fb117a227d478671c",
     "grade": false,
     "grade_id": "ex-setup-remarks",
     "locked": true,
     "schema_version": 3,
     "solution": false
    }
   },
   "source": [
    "### Remarks:\n",
    "\n",
    "* If you experience any trouble, ask your fellow students, post an issue in the StudIP forum, or approach us in the practice session - we are always happy to help.\n",
    "* If you do not want to use Python to do the exercises, but prefer another programming language, you may ask the tutors if they are willing to support it. However, the practice sessions will focus on Python and will probably not cover other languages."
   ]
  },
  {
   "cell_type": "markdown",
   "id": "0f430a43",
   "metadata": {
    "deletable": false,
    "editable": false,
    "nbgrader": {
     "cell_type": "markdown",
     "checksum": "1ef3a89fe63ed4f961544c020757b8c8",
     "grade": false,
     "grade_id": "cell-e2b9ea6540929a58",
     "locked": true,
     "schema_version": 3,
     "solution": false
    }
   },
   "source": [
    "## Assignment 1: Image I/O\n",
    "\n",
    "`imageio` is a Python library that provides an easy interface to read and write a wide range of image data. The goal of this exercise is to get familiar with different ways of obtaining images for further processing."
   ]
  },
  {
   "cell_type": "markdown",
   "id": "d80bc684",
   "metadata": {
    "deletable": false,
    "editable": false,
    "nbgrader": {
     "cell_type": "markdown",
     "checksum": "ba56f85fdd505f8e7cc55ab60b73dc04",
     "grade": false,
     "grade_id": "cell-dfb47c896b16d37b",
     "locked": true,
     "schema_version": 3,
     "solution": false
    }
   },
   "source": [
    "**a) Example images:** `imageio` provides a number of example images, which can be loaded by the special URI `imageio:`. These include classic 2D images, as well as animated and volumetric images. \n",
    "\n",
    "Find out what other images are provided and how these are represented when loaded as numpy array."
   ]
  },
  {
   "cell_type": "code",
   "execution_count": null,
   "id": "1a071d36",
   "metadata": {
    "deletable": false,
    "nbgrader": {
     "cell_type": "code",
     "checksum": "1a6f969fd3783225267a0d47de311038",
     "grade": true,
     "grade_id": "cell-4c4e189c29e97763",
     "locked": false,
     "points": 1,
     "schema_version": 3,
     "solution": true
    }
   },
   "outputs": [],
   "source": [
    "%matplotlib inline\n",
    "import matplotlib.pyplot as plt\n",
    "import imageio.v3 as iio\n",
    "\n",
    "filename = 'chelsea.png'\n",
    "\n",
    "# YOUR CODE HERE\n",
    "raise NotImplementedError()\n",
    "\n",
    "im =  iio.imread('imageio:' + filename)\n",
    "\n",
    "plt.figure()\n",
    "plt.title(f\"{filename}: {im.shape}\")\n",
    "plt.imshow(im)\n",
    "plt.show()"
   ]
  },
  {
   "cell_type": "markdown",
   "id": "87068f12",
   "metadata": {
    "deletable": false,
    "editable": false,
    "nbgrader": {
     "cell_type": "markdown",
     "checksum": "c8b649799026c06303ec34fd4a52b297",
     "grade": false,
     "grade_id": "cell-0dfa25076996bb59",
     "locked": true,
     "schema_version": 3,
     "solution": false
    }
   },
   "source": [
    "**(b) Loading an image from a file**. Usually, you will have to load images from a file. We have uploaded an example image to the StudIP folder along with this exercise sheet. Load that image using the `imageio` library."
   ]
  },
  {
   "cell_type": "code",
   "execution_count": null,
   "id": "f95ab4a1",
   "metadata": {
    "deletable": false,
    "nbgrader": {
     "cell_type": "code",
     "checksum": "66d35e91ecbe5eda8a6882aa246ba58e",
     "grade": true,
     "grade_id": "cell-b9de9ac530ecf609",
     "locked": false,
     "points": 1,
     "schema_version": 3,
     "solution": true
    }
   },
   "outputs": [],
   "source": [
    "%matplotlib inline\n",
    "import matplotlib.pyplot as plt\n",
    "\n",
    "# YOUR CODE HERE\n",
    "raise NotImplementedError()\n",
    "\n",
    "plt.figure()\n",
    "plt.title(f\"Image: {im.shape}\")\n",
    "plt.imshow(im)\n",
    "plt.show()"
   ]
  },
  {
   "cell_type": "markdown",
   "id": "14d1cc4c",
   "metadata": {
    "deletable": false,
    "editable": false,
    "nbgrader": {
     "cell_type": "markdown",
     "checksum": "1d8885ef34b009a074714c6c078d150f",
     "grade": false,
     "grade_id": "cell-d55e25d7535d0978",
     "locked": true,
     "schema_version": 3,
     "solution": false
    }
   },
   "source": [
    "**(c) Download an image from the web**. `imageio` also allows to load images from arbitrary URLs. Download an image from a URL of your choice and display it."
   ]
  },
  {
   "cell_type": "code",
   "execution_count": null,
   "id": "68dc3313",
   "metadata": {
    "deletable": false,
    "nbgrader": {
     "cell_type": "code",
     "checksum": "a190d9f81502f306e1a92f99aa7196dd",
     "grade": true,
     "grade_id": "cell-5be8094ec03ecc4e",
     "locked": false,
     "points": 1,
     "schema_version": 3,
     "solution": true
    }
   },
   "outputs": [],
   "source": [
    "%matplotlib inline\n",
    "import matplotlib.pyplot as plt\n",
    "import imageio.v3 as iio\n",
    "\n",
    "# YOUR CODE HERE\n",
    "raise NotImplementedError()"
   ]
  },
  {
   "cell_type": "markdown",
   "id": "1d91f182",
   "metadata": {
    "deletable": false,
    "editable": false,
    "nbgrader": {
     "cell_type": "markdown",
     "checksum": "14ec76d5c0b52a0358f3c230fa1a1fad",
     "grade": false,
     "grade_id": "cell-8486e2482bc8265b",
     "locked": true,
     "schema_version": 3,
     "solution": false
    }
   },
   "source": [
    "**(d) Storing image as file.** The function `imageio.imwrite()` can be used to store images on your harddrive. Mark the head of the cameraman with a rectangle and store the resulting image in a file. Check the saved image with some external program."
   ]
  },
  {
   "cell_type": "code",
   "execution_count": null,
   "id": "5f5130ab",
   "metadata": {
    "deletable": false,
    "nbgrader": {
     "cell_type": "code",
     "checksum": "9d340d575b1d12a8a713958f6a2a4cbd",
     "grade": true,
     "grade_id": "cell-b38e5d41512dc3c2",
     "locked": false,
     "points": 2,
     "schema_version": 3,
     "solution": true
    }
   },
   "outputs": [],
   "source": [
    "%matplotlib inline\n",
    "import matplotlib.pyplot as plt\n",
    "import imageio.v3 as iio\n",
    "\n",
    "im =  iio.imread('imageio:camera.png')\n",
    "\n",
    "# YOUR CODE HERE\n",
    "raise NotImplementedError()\n",
    "\n",
    "plt.figure(figsize=(12, 12))\n",
    "plt.title(f\"Image: {im.shape}\")\n",
    "plt.imshow(im)\n",
    "plt.show()"
   ]
  },
  {
   "cell_type": "markdown",
   "id": "d4bcd3eb",
   "metadata": {
    "deletable": false,
    "editable": false,
    "nbgrader": {
     "cell_type": "markdown",
     "checksum": "c33169c915d717e233b3330ad3f68c29",
     "grade": false,
     "grade_id": "cell-92a05cbfd7ea0add",
     "locked": true,
     "schema_version": 3,
     "solution": false,
     "task": false
    }
   },
   "source": [
    "**(e) Acquire image from webcam (bonus)** `imageio` also allows to acquire images from a webcam. However, accessing the webcam relies on external software and requires that your operating system grants access to the webcam. Try to make the following cell work!"
   ]
  },
  {
   "cell_type": "code",
   "execution_count": null,
   "id": "972e089b",
   "metadata": {},
   "outputs": [],
   "source": [
    "%matplotlib inline\n",
    "import matplotlib.pyplot as plt\n",
    "import imageio.v3 as iio\n",
    "\n",
    "im = iio.imread('<video0>')\n",
    "\n",
    "plt.figure()\n",
    "plt.title(f\"Webcam image: {im.shape}\")\n",
    "plt.imshow(im)\n",
    "plt.show()"
   ]
  },
  {
   "cell_type": "markdown",
   "id": "aa11fee7",
   "metadata": {
    "deletable": false,
    "editable": false,
    "nbgrader": {
     "cell_type": "markdown",
     "checksum": "dda530a9be6e23ba0c93fe8ee1d3a829",
     "grade": false,
     "grade_id": "cell-baa18b64ad27ccf2",
     "locked": true,
     "schema_version": 3,
     "solution": false,
     "task": false
    }
   },
   "source": [
    "If the previous cell hangs (as it is the case on some of our computers) you may try to stop it by hitting <kbd>i</kbd>,<kbd>i</kbd> (interrupt the kernel) or  <kbd>0</kbd>,<kbd>0</kbd> (restart the kernel) and instead run the following cell:"
   ]
  },
  {
   "cell_type": "code",
   "execution_count": null,
   "id": "da58a8f6",
   "metadata": {},
   "outputs": [],
   "source": [
    "%matplotlib inline\n",
    "import matplotlib.pyplot as plt\n",
    "import imageio.v2 as iio\n",
    "\n",
    "with iio.get_reader('<video0>') as reader:\n",
    "    im = reader.get_next_data()\n",
    "\n",
    "plt.figure()\n",
    "plt.title(f\"Webcam image: {im.shape}\")\n",
    "plt.imshow(im)\n",
    "plt.show()"
   ]
  },
  {
   "cell_type": "markdown",
   "id": "6b5e1548",
   "metadata": {
    "deletable": false,
    "editable": false,
    "nbgrader": {
     "cell_type": "markdown",
     "checksum": "c340588a298f5db0b7be0e17f96c44c5",
     "grade": false,
     "grade_id": "cell-2706d38e5ddd8e07",
     "locked": true,
     "schema_version": 3,
     "solution": false,
     "task": false
    }
   },
   "source": [
    "If both of the above do not work, you may try to resort to OpenCV (`cv2`):"
   ]
  },
  {
   "cell_type": "code",
   "execution_count": null,
   "id": "048ecb95",
   "metadata": {},
   "outputs": [],
   "source": [
    "import matplotlib.pyplot as plt\n",
    "import cv2\n",
    "\n",
    "try:\n",
    "    webcam = cv2.VideoCapture(0)\n",
    "    ret, frame_bgr = webcam.read()\n",
    "    webcam.release()\n",
    "\n",
    "    if ret:\n",
    "        frame = cv2.cvtColor(frame_bgr, cv2.COLOR_BGR2RGB)\n",
    "        plt.figure()\n",
    "        plt.title(f\"Webcam image: {frame.shape}\")\n",
    "        plt.imshow(frame)\n",
    "        plt.show()\n",
    "    else:\n",
    "        print(\"Reading image failed!\")\n",
    "except Exception as ex:\n",
    "    print(\"Error:\", ex)"
   ]
  },
  {
   "cell_type": "markdown",
   "id": "8e65927a",
   "metadata": {
    "deletable": false,
    "editable": false,
    "nbgrader": {
     "cell_type": "markdown",
     "checksum": "354ef121be48bd2d21f4d83302aa5e83",
     "grade": false,
     "grade_id": "cell-38b7f34be3403b53",
     "locked": true,
     "schema_version": 3,
     "solution": false
    }
   },
   "source": [
    "## Assignment 2: Displaying images\n",
    "In exercises and during the practice sessions, we will make extensive use of `matplotlib`'s `imshow` function for displaying images. Properly understanding the details of how this function works is essential to avoid problems later on. Take a close look at the documentation and then answer the following questions:"
   ]
  },
  {
   "cell_type": "markdown",
   "id": "11df1b11",
   "metadata": {
    "deletable": false,
    "editable": false,
    "nbgrader": {
     "cell_type": "markdown",
     "checksum": "7eae8670f4da9f34b0849f06e5a042c0",
     "grade": false,
     "grade_id": "cell-75af10dfb6197e3d",
     "locked": true,
     "schema_version": 3,
     "solution": false,
     "task": false
    }
   },
   "source": [
    "**(a) Origin:** The default behaviour of `imshow` is to display the origin (the point with coordinates (0,0)) at the upper left corner. How can you change this to the lower left corner (as it is usually done in mathematical contexts when displaying graphs)?"
   ]
  },
  {
   "cell_type": "code",
   "execution_count": null,
   "id": "37a206d8",
   "metadata": {
    "deletable": false,
    "nbgrader": {
     "cell_type": "code",
     "checksum": "58f7478f80a9bb0fd88758118c2413df",
     "grade": true,
     "grade_id": "cell-859fbd418004678f",
     "locked": false,
     "points": 1,
     "schema_version": 3,
     "solution": true,
     "task": false
    }
   },
   "outputs": [],
   "source": [
    "%matplotlib inline\n",
    "import matplotlib.pyplot as plt\n",
    "import imageio.v3 as iio\n",
    "\n",
    "im = iio.imread(\"imageio:camera.png\")\n",
    "\n",
    "plt.figure()\n",
    "plt.title(f\"shape: {im.shape}\")\n",
    "# YOUR CODE HERE\n",
    "raise NotImplementedError()\n",
    "plt.show()"
   ]
  },
  {
   "cell_type": "markdown",
   "id": "6976d87d",
   "metadata": {
    "deletable": false,
    "editable": false,
    "nbgrader": {
     "cell_type": "markdown",
     "checksum": "cc144d4784c3d5949f5c46df7e063f86",
     "grade": false,
     "grade_id": "cell-213eeac484b06e9c",
     "locked": true,
     "schema_version": 3,
     "solution": false
    }
   },
   "source": [
    "**(b) Monochrome images:** When displaying monochrome images (that is 2-dimensional arrays), they will by default not be displayed as grayscale by `imshow` but rather appear yellow-greenish. Explain why this is the case and how you can achieve  grayscale output."
   ]
  },
  {
   "cell_type": "markdown",
   "id": "1b55575c",
   "metadata": {
    "deletable": false,
    "nbgrader": {
     "cell_type": "markdown",
     "checksum": "d7d0ade5483ceb51071ffde94fde4644",
     "grade": true,
     "grade_id": "cell-2fc0ab8469dd504b",
     "locked": false,
     "points": 1,
     "schema_version": 3,
     "solution": true
    }
   },
   "source": [
    "YOUR ANSWER HERE"
   ]
  },
  {
   "cell_type": "code",
   "execution_count": null,
   "id": "5df79746",
   "metadata": {
    "deletable": false,
    "nbgrader": {
     "cell_type": "code",
     "checksum": "769d9db8827acac78b1357f2812ac3ba",
     "grade": true,
     "grade_id": "cell-22b8021c9ab6b152",
     "locked": false,
     "points": 1,
     "schema_version": 3,
     "solution": true
    }
   },
   "outputs": [],
   "source": [
    "%matplotlib inline\n",
    "import matplotlib.pyplot as plt\n",
    "import imageio.v3 as iio\n",
    "\n",
    "im = iio.imread(\"imageio:camera.png\")\n",
    "\n",
    "plt.figure()\n",
    "plt.title(f\"shape: {im.shape}\")\n",
    "# YOUR CODE HERE\n",
    "raise NotImplementedError()\n",
    "plt.imshow(im)\n",
    "plt.show()"
   ]
  },
  {
   "cell_type": "markdown",
   "id": "5c04ec6b",
   "metadata": {
    "deletable": false,
    "editable": false,
    "nbgrader": {
     "cell_type": "markdown",
     "checksum": "a3a0600a7df0ede3f98b31608dfb8c12",
     "grade": false,
     "grade_id": "cell-be882dcd39e9375a",
     "locked": true,
     "schema_version": 3,
     "solution": false
    }
   },
   "source": [
    "**(c) interpolation:** Demonstrate the effect of the `interpolation=` parameter on a small (e.g. $4\\times 4$) image. Discuss in what situations you would use which interpolation technique."
   ]
  },
  {
   "cell_type": "markdown",
   "id": "fcae1e4e",
   "metadata": {
    "deletable": false,
    "nbgrader": {
     "cell_type": "markdown",
     "checksum": "b79b7ffcbab0cf6d575bf56f5a9f28d2",
     "grade": true,
     "grade_id": "cell-40b940437c4c0ae5",
     "locked": false,
     "points": 1,
     "schema_version": 3,
     "solution": true
    }
   },
   "source": [
    "YOUR ANSWER HERE"
   ]
  },
  {
   "cell_type": "code",
   "execution_count": null,
   "id": "e8435f81",
   "metadata": {},
   "outputs": [],
   "source": [
    "%matplotlib inline\n",
    "import numpy as np\n",
    "import matplotlib.pyplot as plt\n",
    "\n",
    "im = np.random.randint(0,16,(4,4))\n",
    "\n",
    "plt.figure()\n",
    "plt.title(f\"Image: {im.shape}\")\n",
    "plt.imshow(im, interpolation=\"none\")\n",
    "plt.show()"
   ]
  },
  {
   "cell_type": "markdown",
   "id": "1d80f232",
   "metadata": {
    "deletable": false,
    "editable": false,
    "nbgrader": {
     "cell_type": "markdown",
     "checksum": "81bc15522c63a730094689813dc12ded",
     "grade": false,
     "grade_id": "cell-9f869cf13a972e4d",
     "locked": true,
     "schema_version": 3,
     "solution": false
    }
   },
   "source": [
    "**(d)** Consider the following example: Two images are created, one with values in the range $[0,128[$, the other with values in the range $[0,256[$. Yet both images appear identical when displayed with `imshow`. Explain this effect and what to do to make the first image appear darker."
   ]
  },
  {
   "cell_type": "markdown",
   "id": "b40141a1",
   "metadata": {
    "deletable": false,
    "nbgrader": {
     "cell_type": "markdown",
     "checksum": "2c2550e1e19067cc8f196e352317c165",
     "grade": true,
     "grade_id": "cell-ba0b895740412a54",
     "locked": false,
     "points": 1,
     "schema_version": 3,
     "solution": true
    }
   },
   "source": [
    "YOUR ANSWER HERE"
   ]
  },
  {
   "cell_type": "code",
   "execution_count": null,
   "id": "d456a9f3",
   "metadata": {},
   "outputs": [],
   "source": [
    "%matplotlib inline\n",
    "import numpy as np\n",
    "import matplotlib.pyplot as plt\n",
    "\n",
    "im1 = np.arange(0,128).reshape(8,16)\n",
    "im2 = np.arange(0,256,2).reshape(8,16)\n",
    "\n",
    "plt.figure(figsize=(12,3))\n",
    "plt.subplot(1,2,1)\n",
    "plt.title(f\"Image1: {im1.min()}-{im1.max()}\")\n",
    "plt.imshow(im1)\n",
    "plt.subplot(1,2,2)\n",
    "plt.title(f\"Image1: {im2.min()}-{im2.max()}\")\n",
    "plt.imshow(im2)\n",
    "plt.show()"
   ]
  },
  {
   "cell_type": "markdown",
   "id": "aadfea97",
   "metadata": {
    "deletable": false,
    "editable": false,
    "nbgrader": {
     "cell_type": "markdown",
     "checksum": "9edf9daaad32840d5a88d357d7af808c",
     "grade": false,
     "grade_id": "cell-3fdf7b0b1dd58f16",
     "locked": true,
     "schema_version": 3,
     "solution": false
    }
   },
   "source": [
    "**(e)** Explain in your own words the effect of the `extent=` parameter. Create a small example demonstrating the effect."
   ]
  },
  {
   "cell_type": "markdown",
   "id": "160a8dbf",
   "metadata": {
    "deletable": false,
    "nbgrader": {
     "cell_type": "markdown",
     "checksum": "f29b14263da174dee659bd6610106824",
     "grade": true,
     "grade_id": "cell-3da2b447d11b998c",
     "locked": false,
     "points": 1,
     "schema_version": 3,
     "solution": true,
     "task": false
    }
   },
   "source": [
    "YOUR ANSWER HERE"
   ]
  },
  {
   "cell_type": "code",
   "execution_count": null,
   "id": "b57ebe6f",
   "metadata": {
    "deletable": false,
    "nbgrader": {
     "cell_type": "code",
     "checksum": "d2c0ca230c0dd73dd54c752aa7f15140",
     "grade": true,
     "grade_id": "cell-df27e8647a557b96",
     "locked": false,
     "points": 1,
     "schema_version": 3,
     "solution": true,
     "task": false
    }
   },
   "outputs": [],
   "source": [
    "%matplotlib inline\n",
    "import matplotlib.pyplot as plt\n",
    "import imageio.v3 as iio\n",
    "\n",
    "im = iio.imread(\"imageio:camera.png\")\n",
    "\n",
    "plt.figure()\n",
    "plt.title(f\"Image: {im.shape}\")\n",
    "# YOUR CODE HERE\n",
    "raise NotImplementedError()\n",
    "plt.show()"
   ]
  }
 ],
 "metadata": {
  "kernelspec": {
   "display_name": "Python 3 (ipykernel)",
   "language": "python",
   "name": "python3"
  }
 },
 "nbformat": 4,
 "nbformat_minor": 5
}
