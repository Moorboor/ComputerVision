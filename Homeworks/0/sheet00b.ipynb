{
 "cells": [
  {
   "cell_type": "markdown",
   "id": "e196f74f",
   "metadata": {
    "deletable": false,
    "editable": false,
    "nbgrader": {
     "cell_type": "markdown",
     "checksum": "06a5b796a3583e5de63b40848e61feab",
     "grade": false,
     "grade_id": "h00",
     "locked": true,
     "schema_version": 3,
     "solution": false
    }
   },
   "source": [
    "Osnabrück University - Computer Vision (Winter Term 2024/25) - Dr. Ulf Krumnack, Lukas Niehaus, Robin Rawiel"
   ]
  },
  {
   "cell_type": "markdown",
   "id": "0f0c10fc",
   "metadata": {
    "deletable": false,
    "editable": false,
    "nbgrader": {
     "cell_type": "markdown",
     "checksum": "c0faf5089543aec887e010dfef486773",
     "grade": false,
     "grade_id": "h01",
     "locked": true,
     "schema_version": 3,
     "solution": false
    },
    "slideshow": {
     "slide_type": "slide"
    }
   },
   "source": [
    "# Exercise Sheet 00b: Image Rotation"
   ]
  },
  {
   "cell_type": "markdown",
   "id": "6b683282",
   "metadata": {},
   "source": [
    "## Introduction\n",
    "\n",
    "This is a second introductory exercise sheet that shall help you getting started with Python and Jupyter Notebooks, the tools we will use in the practice sessions of the Computer Vision course. This is a preparatory sheet and you are not required to submit your solutions.\n",
    "\n",
    "We encourage you to work through this sheet to make sure you get familiar with this setup and to check if you feel comfortable with reading and understanding the documentation of the software packages.\n",
    "\n",
    "In case of questions, feel free to post them to the forum and/or raise them in the next practice session."
   ]
  },
  {
   "cell_type": "markdown",
   "id": "8a0145ed",
   "metadata": {
    "slideshow": {
     "slide_type": "slide"
    }
   },
   "source": [
    "# Rotation\n",
    "\n",
    "Image Rotation can be achieved in multiple ways. This sheet shows a way to implement it by classical programming and the assignment is to implement a faster version by utilizing numpy. \n"
   ]
  },
  {
   "cell_type": "markdown",
   "id": "8e291b52",
   "metadata": {
    "slideshow": {
     "slide_type": "skip"
    }
   },
   "source": [
    "# Generate Grayscale F"
   ]
  },
  {
   "cell_type": "code",
   "execution_count": null,
   "id": "61843c85",
   "metadata": {
    "slideshow": {
     "slide_type": "skip"
    }
   },
   "outputs": [],
   "source": [
    "import numpy as np\n",
    "from matplotlib import pyplot as plt\n",
    "\n",
    "F = np.zeros((7,5), dtype=np.uint8)\n",
    "# vertical line\n",
    "F[1:6, 1] = 1\n",
    "# upper line\n",
    "F[1, 2:4] = 1\n",
    "# middle point\n",
    "F[3, 2] = 1\n",
    "\n",
    "print(F)\n",
    "plt.imshow(F, cmap='gray')\n",
    "plt.title(\"Original\")\n",
    "plt.show()"
   ]
  },
  {
   "cell_type": "markdown",
   "id": "1a1f4a22",
   "metadata": {},
   "source": [
    "# Rotate Classic"
   ]
  },
  {
   "cell_type": "code",
   "execution_count": null,
   "id": "bae6e6d4",
   "metadata": {
    "deletable": false,
    "editable": false,
    "nbgrader": {
     "cell_type": "code",
     "checksum": "e654cd5b8ad1018430a60eee8875d98a",
     "grade": false,
     "grade_id": "cell-937fe842b1eb801a",
     "locked": true,
     "schema_version": 3,
     "solution": false,
     "task": false
    }
   },
   "outputs": [],
   "source": [
    "def rotate_classic(original, angle):\n",
    "    fs = np.zeros(original.shape)\n",
    "    rho = np.radians(angle)\n",
    "    rotation_matrix = np.array([[np.cos(rho), -np.sin(rho)],\n",
    "                                [np.sin(rho), np.cos(rho)]])\n",
    "\n",
    "    h, w = fs.shape\n",
    "    h_orig, w_orig = original.shape\n",
    "\n",
    "    y_trans, x_trans = h//2, w//2\n",
    "\n",
    "    for y in range(h):\n",
    "        for x in range(w):\n",
    "\n",
    "            x_rot = rotation_matrix[0,0] * (x-x_trans) + rotation_matrix[0,1] * (y-y_trans)\n",
    "            y_rot = rotation_matrix[1,0] * (x-x_trans) + rotation_matrix[1,1] * (y-y_trans)\n",
    "\n",
    "            x_orig = int(x_rot) + x_trans\n",
    "            y_orig = int(y_rot) + y_trans\n",
    "            \n",
    "            x_orig = min(max(x_orig, 0), w_orig-1)\n",
    "            y_orig = min(max(y_orig, 0), h_orig-1)\n",
    "\n",
    "            fs[y,x] = original[y_orig, x_orig]\n",
    "    return fs\n",
    "\n",
    "import imageio.v3 as iio\n",
    "camera = iio.imread('imageio:camera.png')\n",
    "plt.imshow(rotate_classic(F,45), cmap=\"gray\")\n",
    "plt.show()\n",
    "plt.imshow(rotate_classic(camera,45), cmap=\"gray\")\n",
    "plt.show()"
   ]
  },
  {
   "cell_type": "markdown",
   "id": "629406c4",
   "metadata": {},
   "source": [
    "# Assignment: Write the missing code for the rotation in numpy.\n",
    "hint: useful commands can be [np.meshgrid](https://numpy.org/doc/1.26/reference/generated/numpy.meshgrid.html#numpy-meshgrid), [np.dot](https://numpy.org/doc/1.26/reference/generated/numpy.dot.html#numpy.dot), [np.stack](https://numpy.org/doc/1.26/reference/generated/numpy.stack.html#numpy.stack), [np.reshape](https://numpy.org/doc/1.26/reference/generated/numpy.reshape.html#numpy-reshape), [np.clip](https://numpy.org/doc/1.26/reference/generated/numpy.clip.html#numpy.clip)"
   ]
  },
  {
   "cell_type": "markdown",
   "id": "84c34117",
   "metadata": {},
   "source": [
    "# Rotate Numpy"
   ]
  },
  {
   "cell_type": "code",
   "execution_count": null,
   "id": "be14ea17",
   "metadata": {
    "deletable": false,
    "nbgrader": {
     "cell_type": "code",
     "checksum": "a8b020bc944794395550cfe0cb2e281c",
     "grade": true,
     "grade_id": "cell-1e36dc75923d91d5",
     "locked": false,
     "points": 0,
     "schema_version": 3,
     "solution": true,
     "task": false
    }
   },
   "outputs": [],
   "source": [
    "def rotate_numpy(original, angle):\n",
    "\n",
    "    rotated = np.zeros(original.shape)\n",
    "    h, w = original.shape\n",
    "    y_trans, x_trans = h//2, w//2\n",
    "    \n",
    "    rho = np.radians(angle)\n",
    "    rotation_matrix = np.array([[np.cos(rho), -np.sin(rho)],\n",
    "                                [np.sin(rho), np.cos(rho)]])\n",
    "    \n",
    "    # YOUR CODE HERE\n",
    "    raise NotImplementedError()\n",
    "    \n",
    "    rotated = original[(n_yy, n_xx)]\n",
    "    return rotated\n",
    "\n",
    "import imageio.v3 as iio\n",
    "camera = iio.imread('imageio:camera.png')\n",
    "plt.imshow(rotate_numpy(F,45), cmap=\"gray\")\n",
    "plt.show()\n",
    "plt.imshow(rotate_numpy(camera,45), cmap=\"gray\")\n",
    "plt.show()"
   ]
  },
  {
   "cell_type": "code",
   "execution_count": null,
   "id": "9108e379",
   "metadata": {},
   "outputs": [],
   "source": [
    "%timeit rotate_classic(camera,45)\n",
    "%timeit rotate_numpy(camera,45)"
   ]
  }
 ],
 "metadata": {
  "kernelspec": {
   "display_name": "Python 3 (ipykernel)",
   "language": "python",
   "name": "python3"
  }
 },
 "nbformat": 4,
 "nbformat_minor": 5
}
